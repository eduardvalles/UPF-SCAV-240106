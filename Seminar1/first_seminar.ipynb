{
 "cells": [
  {
   "cell_type": "markdown",
   "metadata": {
    "id": "PUkA7KW-vKAq"
   },
   "source": [
    "# S1 JPEG, JPEG2000 and FFMpeg"
   ]
  },
  {
   "cell_type": "code",
   "execution_count": 1,
   "metadata": {},
   "outputs": [
    {
     "name": "stdout",
     "output_type": "stream",
     "text": [
      "Defaulting to user installation because normal site-packages is not writeable\n",
      "Requirement already satisfied: pywavelets in c:\\users\\22edu\\appdata\\local\\packages\\pythonsoftwarefoundation.python.3.12_qbz5n2kfra8p0\\localcache\\local-packages\\python312\\site-packages (1.7.0)\n",
      "Requirement already satisfied: numpy<3,>=1.23 in c:\\users\\22edu\\appdata\\local\\packages\\pythonsoftwarefoundation.python.3.12_qbz5n2kfra8p0\\localcache\\local-packages\\python312\\site-packages (from pywavelets) (2.1.1)\n"
     ]
    },
    {
     "name": "stderr",
     "output_type": "stream",
     "text": [
      "\n",
      "[notice] A new release of pip is available: 24.2 -> 24.3.1\n",
      "[notice] To update, run: C:\\Users\\22edu\\AppData\\Local\\Microsoft\\WindowsApps\\PythonSoftwareFoundation.Python.3.12_qbz5n2kfra8p0\\python.exe -m pip install --upgrade pip\n"
     ]
    }
   ],
   "source": [
    "!pip install pywavelets"
   ]
  },
  {
   "cell_type": "code",
   "execution_count": 2,
   "metadata": {},
   "outputs": [],
   "source": [
    "import numpy as np\n",
    "import ffmpeg\n",
    "from PIL import Image\n",
    "from collections import OrderedDict\n",
    "import pywt\n",
    "import matplotlib.pyplot as plt\n",
    "from scipy.fftpack import dct, idct\n",
    "\n"
   ]
  },
  {
   "cell_type": "markdown",
   "metadata": {},
   "source": [
    "2) Start a script called first_seminar.py . Then create a class and a method , which is a translator from 3 values in RGB into the 3 YUV values, plus the opposite operation."
   ]
  },
  {
   "cell_type": "code",
   "execution_count": 30,
   "metadata": {
    "executionInfo": {
     "elapsed": 3,
     "status": "ok",
     "timestamp": 1725613626982,
     "user": {
      "displayName": "Xavier Serra",
      "userId": "05708248805041389305"
     },
     "user_tz": -120
    },
    "id": "4g-n2kVezA-U"
   },
   "outputs": [],
   "source": [
    "def RGB_to_YUV(rgb):\n",
    "  m = np.array([[ 0.29900, -0.16874,  0.50000], [0.58700, -0.33126, -0.41869], [ 0.11400, 0.50000, -0.08131]])\n",
    "\n",
    "  yuv = np.dot(rgb,m)\n",
    "  yuv[:,:,1:]+=128.0\n",
    "\n",
    "  return yuv\n",
    "\n",
    "def YUV_to_RGB(yuv):\n",
    "      \n",
    "  m = np.array([[ 1.0, 1.0, 1.0], [-0.000007154783816076815, -0.3441331386566162, 1.7720025777816772], [ 1.4019975662231445, -0.7141380310058594 , 0.00001542569043522235]])\n",
    "  \n",
    "  rgb = np.dot(yuv,m)\n",
    "  rgb[:,:,0]-=179.45477266423404\n",
    "  rgb[:,:,1]+=135.45870971679688\n",
    "  rgb[:,:,2]-=226.8183044444304\n",
    "  return rgb"
   ]
  },
  {
   "cell_type": "code",
   "execution_count": 31,
   "metadata": {
    "colab": {
     "base_uri": "https://localhost:8080/",
     "height": 446
    },
    "executionInfo": {
     "elapsed": 917,
     "status": "ok",
     "timestamp": 1725613845941,
     "user": {
      "displayName": "Xavier Serra",
      "userId": "05708248805041389305"
     },
     "user_tz": -120
    },
    "id": "cIL0xc6zbJRU",
    "outputId": "ec568c35-1552-4add-e507-c230a71afb41"
   },
   "outputs": [
    {
     "data": {
      "text/plain": [
       "array([[[ -73.34602982,   71.15221524,   80.38694868],\n",
       "        [  47.65705654,  -55.69424582,  223.18476183],\n",
       "        [ 165.68351869,  258.48042274,  401.16332958],\n",
       "        ...,\n",
       "        [  26.58777849,   27.92843461,   93.47599251],\n",
       "        [  57.72368466,  118.52165627,  212.00356076],\n",
       "        [  25.49730848,   94.18986177,  299.00750716]],\n",
       "\n",
       "       [[ 186.57753309,  186.11033177,  324.26800818],\n",
       "        [ 185.52165121,   46.80185223,  149.61701315],\n",
       "        [ 234.85365525,  164.29708076,  266.10851703],\n",
       "        ...,\n",
       "        [ 238.04364584,  -22.87790489,   81.17790256],\n",
       "        [ -19.80705287,  233.65126967,  -45.88585432],\n",
       "        [  81.97685212,  346.8582437 ,   95.46606352]],\n",
       "\n",
       "       [[ 123.84441152,   99.65761733,  -22.17982819],\n",
       "        [  88.06044929,   49.69757819,  -83.35572541],\n",
       "        [  49.84480503,   44.58493996, -193.63996997],\n",
       "        ...,\n",
       "        [-168.64226359,   60.56831694,  139.21433456],\n",
       "        [ 324.04371739,   66.56342649,  149.45787678],\n",
       "        [ 104.79954221,  282.68875551,  418.65471005]],\n",
       "\n",
       "       ...,\n",
       "\n",
       "       [[  21.61886529,   45.24526691, -210.72818081],\n",
       "        [  39.55809404,   86.06169748,   58.36766059],\n",
       "        [  62.57827719,   97.90017819,   15.9797401 ],\n",
       "        ...,\n",
       "        [ 329.51248617,  240.94785333,   96.83663957],\n",
       "        [ 222.8941718 ,  137.20083809,   86.1206219 ],\n",
       "        [ 260.92299053,   88.42746544,  386.64126573]],\n",
       "\n",
       "       [[ 108.40820502,  310.18071842,  250.08652944],\n",
       "        [ 302.00326523,   62.75686741,  279.49774871],\n",
       "        [ 369.61227147,  170.76722097,   89.87344437],\n",
       "        ...,\n",
       "        [ -55.29505322,   86.19806957, -193.55303946],\n",
       "        [ 176.05968372,  100.87533236,  194.24855042],\n",
       "        [ 196.44161262,  135.82884383,  250.2844451 ]],\n",
       "\n",
       "       [[ 252.81797798,   33.85948133,   39.75359376],\n",
       "        [  25.76962164,  237.46562481,  350.0224632 ],\n",
       "        [-116.22971296,  127.4700067 ,   43.22622347],\n",
       "        ...,\n",
       "        [   3.74373187,   46.82160735,  126.28368924],\n",
       "        [ -44.71783494,   81.16654325,   32.68308215],\n",
       "        [ 234.60876298,  263.30982685,   37.6237833 ]]])"
      ]
     },
     "execution_count": 31,
     "metadata": {},
     "output_type": "execute_result"
    }
   ],
   "source": [
    "RGB_to_YUV(np.random.randint(0, 256, (100, 100, 3)))\n",
    "YUV_to_RGB(np.random.randint(0, 256, (100, 100, 3)))"
   ]
  },
  {
   "cell_type": "markdown",
   "metadata": {},
   "source": [
    "3) Use ffmpeg to resize images into lower quality. Use any image you like"
   ]
  },
  {
   "cell_type": "code",
   "execution_count": 32,
   "metadata": {},
   "outputs": [],
   "source": [
    "def resize_image(input_image, output_image, width, height):\n",
    "    ffmpeg.input(input_image).output(output_image, vf=f'scale={width}:{height}').run(overwrite_output=True)"
   ]
  },
  {
   "cell_type": "code",
   "execution_count": 33,
   "metadata": {},
   "outputs": [],
   "source": [
    "resize_image('image.png', 'image_resized.png', 50, 70)"
   ]
  },
  {
   "cell_type": "markdown",
   "metadata": {},
   "source": [
    "4) Create a method called serpentine which should be able to read the bytes of a JPEG file in the serpentine way we saw."
   ]
  },
  {
   "cell_type": "code",
   "execution_count": 34,
   "metadata": {},
   "outputs": [],
   "source": [
    "def serpentine(img):\n",
    "    rows, cols = img.shape\n",
    "    idx = 0\n",
    "    arr = []\n",
    "    output = np.zeros([rows,cols], int)\n",
    "    \n",
    "    arr.append(img[0,0])\n",
    "\n",
    "    for col in range(1, cols):\n",
    "        i, j = 0, col   \n",
    "\n",
    "        while i < rows and j >= 0:\n",
    "            arr.append(img[i, j])\n",
    "            i += 1\n",
    "            j -= 1\n",
    "\n",
    "    for row in range(1, rows):\n",
    "        #i, j = row, cols - 1\n",
    "        i, j = row, 0\n",
    "        \n",
    "        while j < cols and i >= 0:\n",
    "            arr.append(img[i, j])\n",
    "            i -= 1\n",
    "            j += 1\n",
    "\n",
    "    # Matrix\n",
    "    for row in range(rows):\n",
    "        for col in range(cols):\n",
    "            output[row, col] = arr[idx]\n",
    "            idx += 1\n",
    "           \n",
    "\n",
    "\n",
    "    return output"
   ]
  },
  {
   "cell_type": "code",
   "execution_count": 35,
   "metadata": {},
   "outputs": [
    {
     "name": "stdout",
     "output_type": "stream",
     "text": [
      "9x9 Image (Simulated Bytes):\n",
      "[[ 42 229  32  80 239  95  60 235  41]\n",
      " [ 78 162 134  49 150  51 157 129 233]\n",
      " [ 95 248 130 114  41 212 171 205 117]\n",
      " [246 212 142  35 193 162 158 215  55]\n",
      " [ 94 157 117  52 125  86 138  75  13]\n",
      " [103 136  96 211 196 191  59 251  92]\n",
      " [210  42 225 167 173  95 133 147 230]\n",
      " [ 38 183  87  51 183  39 230 230 146]\n",
      " [  4 215  92  41 248  49 167 253  95]]\n",
      "Serpentine Image\n",
      "[[ 42 229  78  32 162  95  80 134 248]\n",
      " [246 239  49 130 212  94  95 150 114]\n",
      " [142 157 103  60  51  41  35 117 136]\n",
      " [210 235 157 212 193  52  96  42  38]\n",
      " [ 41 129 171 162 125 211 225 183   4]\n",
      " [ 78 229  95 162  32 246 248 134  80]\n",
      " [ 94 212 130  49 239 103 157 142 114]\n",
      " [150  95 210 136 117  35  41  51  60]\n",
      " [ 38  42  96  52 193 212 157 235   4]]\n"
     ]
    }
   ],
   "source": [
    "# Generate a 9x9 matrix with random bytes (values between 0 and 255)\n",
    "image_matrix = np.random.randint(0, 256, size=(9, 9), dtype=np.uint8)\n",
    "\n",
    "print(\"9x9 Image (Simulated Bytes):\")\n",
    "print(image_matrix)\n",
    "\n",
    "rows, cols = image_matrix.shape\n",
    "\n",
    "print(\"Serpentine Image\")\n",
    "print(serpentine(image_matrix))\n",
    "            "
   ]
  },
  {
   "cell_type": "markdown",
   "metadata": {},
   "source": [
    "5) Use FFMPEG to transform the previous image into b/w. Do the hardest compression you can."
   ]
  },
  {
   "cell_type": "code",
   "execution_count": 36,
   "metadata": {},
   "outputs": [
    {
     "data": {
      "text/plain": [
       "(None, None)"
      ]
     },
     "execution_count": 36,
     "metadata": {},
     "output_type": "execute_result"
    }
   ],
   "source": [
    "# Using FFMPEG to transform an image into b/w\n",
    "ffmpeg.input('DSC01760.JPEG').output('DSC01760_GRAY.JPEG', vf='format=gray').run(overwrite_output=True)"
   ]
  },
  {
   "cell_type": "markdown",
   "metadata": {},
   "source": [
    "Comment de results:\n",
    "\n",
    "- Per a llegir una imatge amb el patró de serpentina, hem utilitzat una matriu de bytes simulant una imatge en lloc d'una imatge real per facilitar els càlculs. Si ens fixem en el resultat obtingut, sembla que el patró de serpentina només funciona en sentit descendent, i no aplica la lectura en sentit ascendent. \n",
    "\n",
    "- Per a transformar una imatge JPEG en blanc i negre, fem servir una imatge real. Observem que la imatge s'ha transformat correctament a blanc i negre."
   ]
  },
  {
   "cell_type": "markdown",
   "metadata": {},
   "source": [
    "5) Create a method which applies a run-lenght encoding from a series of bytes given."
   ]
  },
  {
   "cell_type": "code",
   "execution_count": 21,
   "metadata": {},
   "outputs": [],
   "source": [
    "def runLengthEncoding(bytes):\n",
    "    encoded=[]\n",
    "\n",
    "    for i in range(len(bytes)):\n",
    "        if bytes[i] != bytes[i - 1]:\n",
    "            encoded.append(bytes[i])\n",
    "\n",
    "    return encoded"
   ]
  },
  {
   "cell_type": "code",
   "execution_count": 24,
   "metadata": {},
   "outputs": [
    {
     "name": "stdout",
     "output_type": "stream",
     "text": [
      "Data: [7, 7, 7, 8, 9, 9, 9, 9, 9, 1, 2, 3, 4, 4, 4, 5, 6, 6, 7, 7, 8, 9, 0, 0, 0]\n",
      "Encoded data with RLE: [7, 8, 9, 1, 2, 3, 4, 5, 6, 7, 8, 9, 0]\n"
     ]
    }
   ],
   "source": [
    "# Testing run length encoding\n",
    "# Test array with mixed patterns\n",
    "data = [\n",
    "    7, 7, 7,        # Three consecutive 7s\n",
    "    8,              # Single 8\n",
    "    9, 9, 9, 9, 9,  # Five consecutive 9s\n",
    "    1, 2, 3,        # No repetitions\n",
    "    4, 4, 4,        # Three consecutive 4s\n",
    "    5, 6, 6,        # Two consecutive 6s\n",
    "    7, 7,           # Two consecutive 7s\n",
    "    8,              # Single 8\n",
    "    9, 0, 0, 0      # Three consecutive 0s\n",
    "]\n",
    "print(\"Data:\", data)\n",
    "\n",
    "encoded_data = runLengthEncoding(data)\n",
    "print(\"Encoded data with RLE:\", encoded_data)\n"
   ]
  },
  {
   "cell_type": "markdown",
   "metadata": {},
   "source": [
    "6) Create a class which can convert, can decode (or both) an input using the DCT. Not necessary a JPG encoder or decoder. A class only about DCT is OK too"
   ]
  },
  {
   "cell_type": "code",
   "execution_count": 25,
   "metadata": {},
   "outputs": [],
   "source": [
    "class DCTProcessor:\n",
    "    def __init__(self, type=2, norm='ortho'):\n",
    "        self.type = type\n",
    "        self.norm = norm\n",
    "\n",
    "    def encode(self, data):\n",
    "        if data.ndim == 1:\n",
    "            return dct(data, type=self.type, norm=self.norm)\n",
    "        elif data.ndim == 2:\n",
    "            return dct(dct(data.T, type=self.type, norm=self.norm).T, type=self.type, norm=self.norm)\n",
    "        else:\n",
    "            raise ValueError(\"Error\")\n",
    "\n",
    "    def decode(self, transformed_data):\n",
    "        if transformed_data.ndim == 1:\n",
    "            return idct(transformed_data, type=self.type, norm=self.norm)\n",
    "        elif transformed_data.ndim == 2:\n",
    "            return idct(idct(transformed_data.T, type=self.type, norm=self.norm).T, type=self.type, norm=self.norm)\n",
    "        else:\n",
    "            raise ValueError(\"Error\")\n",
    "\n",
    "    def process(self, data):\n",
    "        encoded_data = self.encode(data)\n",
    "        decoded_data = self.decode(encoded_data)\n",
    "        return data, encoded_data, decoded_data"
   ]
  },
  {
   "cell_type": "code",
   "execution_count": 26,
   "metadata": {},
   "outputs": [
    {
     "name": "stdout",
     "output_type": "stream",
     "text": [
      "1D Data:\n",
      "Original: [12 34 54 23 65 23 45 76 23 56]\n",
      "Encoded (DCT): [129.96961183 -23.53734699 -11.3980292   -8.61584552 -18.97101233\n",
      "  -4.11096096  -0.57873168 -39.02400824  34.47101233  15.04949448]\n",
      "Decoded (IDCT): [12. 34. 54. 23. 65. 23. 45. 76. 23. 56.]\n",
      "\n",
      "\n",
      "2D Data:\n",
      "Original:\n",
      "[[12 34 54 23]\n",
      " [65 23 45 76]\n",
      " [23 56 12 89]\n",
      " [13 45 67 32]]\n",
      "Encoded (DCT):\n",
      "[[167.25       -37.65653981  -0.75        -7.94418085]\n",
      " [ -7.18211348   8.65774708   8.4966421   16.25520382]\n",
      " [-27.25         6.69297723 -59.25        27.26406161]\n",
      " [-14.07274835 -10.24479618  -7.57839514 -37.65774708]]\n",
      "Decoded (IDCT):\n",
      "[[12. 34. 54. 23.]\n",
      " [65. 23. 45. 76.]\n",
      " [23. 56. 12. 89.]\n",
      " [13. 45. 67. 32.]]\n"
     ]
    }
   ],
   "source": [
    "if __name__ == \"__main__\":\n",
    "    # Create an instance of the DCTProcessor\n",
    "    dct_processor = DCTProcessor(type=2, norm='ortho')\n",
    "\n",
    "    # Test with 1D data\n",
    "    data_1d = np.array([12, 34, 54, 23, 65, 23, 45, 76, 23, 56])\n",
    "    \n",
    "    # Test with 2D data\n",
    "    data_2d = np.array([[12, 34, 54, 23],\n",
    "                        [65, 23, 45, 76],\n",
    "                        [23, 56, 12, 89],\n",
    "                        [13, 45, 67, 32]])\n",
    "\n",
    "    # Process the 1D data\n",
    "    original_1d, encoded_1d, decoded_1d = dct_processor.process(data_1d)\n",
    "    print(\"1D Data:\")\n",
    "    print(\"Original:\", original_1d)\n",
    "    print(\"Encoded (DCT):\", encoded_1d)\n",
    "    print(\"Decoded (IDCT):\", decoded_1d)\n",
    "\n",
    "    print(\"\\n\")\n",
    "\n",
    "    # Process the 2D data\n",
    "    original_2d, encoded_2d, decoded_2d = dct_processor.process(data_2d)\n",
    "    print(\"2D Data:\")\n",
    "    print(\"Original:\")\n",
    "    print(original_2d)\n",
    "    print(\"Encoded (DCT):\")\n",
    "    print(encoded_2d)\n",
    "    print(\"Decoded (IDCT):\")\n",
    "    print(decoded_2d)"
   ]
  },
  {
   "cell_type": "markdown",
   "metadata": {},
   "source": [
    "7) Create a class which can convert, can decode (or both) an input using the DWT. Not necessary aJPEG2000 encoder or decoder. A class only about DWT is OK too"
   ]
  },
  {
   "cell_type": "code",
   "execution_count": 27,
   "metadata": {},
   "outputs": [],
   "source": [
    "class DWTProcessor:\n",
    "    def __init__(self, wavelet='haar', level=1):\n",
    "        self.wavelet = wavelet\n",
    "        self.level = level\n",
    "\n",
    "    def encode(self, data):\n",
    "        if data.ndim == 1:\n",
    "            coeffs = pywt.wavedec(data, wavelet=self.wavelet, level=self.level)\n",
    "            return coeffs\n",
    "        elif data.ndim == 2:\n",
    "            coeffs = pywt.dwt2(data, wavelet=self.wavelet)\n",
    "            return coeffs\n",
    "        else:\n",
    "            raise ValueError(\"Error\")\n",
    "\n",
    "    def decode(self, transformed_data):\n",
    "        if isinstance(transformed_data, list):\n",
    "            data = pywt.waverec(transformed_data, wavelet=self.wavelet)\n",
    "            return data\n",
    "        elif isinstance(transformed_data, tuple):\n",
    "            data = pywt.idwt2(transformed_data, wavelet=self.wavelet)\n",
    "            return data\n",
    "        else:\n",
    "            raise ValueError(\"Error\")\n",
    "\n",
    "    def process(self, data):\n",
    "        encoded_data = self.encode(data)\n",
    "        decoded_data = self.decode(encoded_data)\n",
    "        return data, encoded_data, decoded_data"
   ]
  },
  {
   "cell_type": "code",
   "execution_count": 28,
   "metadata": {},
   "outputs": [
    {
     "name": "stdout",
     "output_type": "stream",
     "text": [
      "1D Data:\n",
      "Original: [12 34 54 23 65 23 45 76 23 56]\n",
      "Encoded (DWT): [array([32.52691193, 54.44722215, 62.22539674, 85.55992052, 55.86143571]), array([-15.55634919,  21.92031022,  29.69848481, -21.92031022,\n",
      "       -23.33452378])]\n",
      "Decoded (IDWT): [12. 34. 54. 23. 65. 23. 45. 76. 23. 56.]\n",
      "\n",
      "\n",
      "2D Data:\n",
      "Original:\n",
      "[[12 34 54 23]\n",
      " [65 23 45 76]\n",
      " [23 56 12 89]\n",
      " [13 45 67 32]]\n",
      "Encoded (DWT):\n",
      "(array([[ 67. ,  99. ],\n",
      "       [ 68.5, 100. ]]), (array([[-21. , -22. ],\n",
      "       [ 10.5,   1. ]]), array([[ 10. ,   0. ],\n",
      "       [-32.5, -21. ]]), array([[-32. ,  31. ],\n",
      "       [ -0.5, -56. ]])))\n",
      "Decoded (IDWT):\n",
      "[[12. 34. 54. 23.]\n",
      " [65. 23. 45. 76.]\n",
      " [23. 56. 12. 89.]\n",
      " [13. 45. 67. 32.]]\n"
     ]
    }
   ],
   "source": [
    "if __name__ == \"__main__\":\n",
    "    # Create an instance of the DWTProcessor\n",
    "    dwt_processor = DWTProcessor(wavelet='haar', level=1)\n",
    "\n",
    "    # Test with 1D data\n",
    "    data_1d = np.array([12, 34, 54, 23, 65, 23, 45, 76, 23, 56])\n",
    "    \n",
    "    # Test with 2D data\n",
    "    data_2d = np.array([[12, 34, 54, 23],\n",
    "                        [65, 23, 45, 76],\n",
    "                        [23, 56, 12, 89],\n",
    "                        [13, 45, 67, 32]])\n",
    "\n",
    "    # Process the 1D data\n",
    "    original_1d, encoded_1d, decoded_1d = dwt_processor.process(data_1d)\n",
    "    print(\"1D Data:\")\n",
    "    print(\"Original:\", original_1d)\n",
    "    print(\"Encoded (DWT):\", encoded_1d)\n",
    "    print(\"Decoded (IDWT):\", decoded_1d)\n",
    "\n",
    "    print(\"\\n\")\n",
    "\n",
    "    # Process the 2D data\n",
    "    original_2d, encoded_2d, decoded_2d = dwt_processor.process(data_2d)\n",
    "    print(\"2D Data:\")\n",
    "    print(\"Original:\")\n",
    "    print(original_2d)\n",
    "    print(\"Encoded (DWT):\")\n",
    "    print(encoded_2d)\n",
    "    print(\"Decoded (IDWT):\")\n",
    "    print(decoded_2d)"
   ]
  }
 ],
 "metadata": {
  "colab": {
   "authorship_tag": "ABX9TyMRLfTamI1Guef8I/9SvpXQ",
   "mount_file_id": "1zG2m0ccomnArDcFgJIhztc_vM1FDdex0",
   "provenance": []
  },
  "kernelspec": {
   "display_name": "Python 3",
   "language": "python",
   "name": "python3"
  },
  "language_info": {
   "codemirror_mode": {
    "name": "ipython",
    "version": 3
   },
   "file_extension": ".py",
   "mimetype": "text/x-python",
   "name": "python",
   "nbconvert_exporter": "python",
   "pygments_lexer": "ipython3",
   "version": "3.12.7"
  }
 },
 "nbformat": 4,
 "nbformat_minor": 0
}
