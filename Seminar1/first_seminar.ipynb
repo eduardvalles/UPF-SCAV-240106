{
 "cells": [
  {
   "cell_type": "markdown",
   "metadata": {
    "id": "PUkA7KW-vKAq"
   },
   "source": [
    "# S1 JPEG, JPEG2000 and FFMpeg"
   ]
  },
  {
   "cell_type": "code",
   "execution_count": 1,
   "metadata": {},
   "outputs": [
    {
     "name": "stdout",
     "output_type": "stream",
     "text": [
      "Defaulting to user installation because normal site-packages is not writeable\n",
      "Requirement already satisfied: pywavelets in c:\\users\\22edu\\appdata\\local\\packages\\pythonsoftwarefoundation.python.3.12_qbz5n2kfra8p0\\localcache\\local-packages\\python312\\site-packages (1.7.0)\n",
      "Requirement already satisfied: numpy<3,>=1.23 in c:\\users\\22edu\\appdata\\local\\packages\\pythonsoftwarefoundation.python.3.12_qbz5n2kfra8p0\\localcache\\local-packages\\python312\\site-packages (from pywavelets) (2.1.1)\n"
     ]
    },
    {
     "name": "stderr",
     "output_type": "stream",
     "text": [
      "\n",
      "[notice] A new release of pip is available: 24.2 -> 24.3.1\n",
      "[notice] To update, run: C:\\Users\\22edu\\AppData\\Local\\Microsoft\\WindowsApps\\PythonSoftwareFoundation.Python.3.12_qbz5n2kfra8p0\\python.exe -m pip install --upgrade pip\n"
     ]
    }
   ],
   "source": [
    "!pip install pywavelets"
   ]
  },
  {
   "cell_type": "code",
   "execution_count": 2,
   "metadata": {},
   "outputs": [],
   "source": [
    "import numpy as np\n",
    "import ffmpeg\n",
    "from PIL import Image\n",
    "from collections import OrderedDict\n",
    "import pywt\n",
    "import matplotlib.pyplot as plt\n",
    "from scipy.fftpack import dct, idct\n",
    "\n"
   ]
  },
  {
   "cell_type": "markdown",
   "metadata": {},
   "source": [
    "2) Start a script called first_seminar.py . Then create a class and a method , which is a translator from 3 values in RGB into the 3 YUV values, plus the opposite operation."
   ]
  },
  {
   "cell_type": "code",
   "execution_count": 5,
   "metadata": {
    "executionInfo": {
     "elapsed": 3,
     "status": "ok",
     "timestamp": 1725613626982,
     "user": {
      "displayName": "Xavier Serra",
      "userId": "05708248805041389305"
     },
     "user_tz": -120
    },
    "id": "4g-n2kVezA-U"
   },
   "outputs": [],
   "source": [
    "def RGB_to_YUV(rgb):\n",
    "  m = np.array([[ 0.29900, -0.16874,  0.50000], [0.58700, -0.33126, -0.41869], [ 0.11400, 0.50000, -0.08131]])\n",
    "\n",
    "  yuv = np.dot(rgb,m)\n",
    "  yuv[:,:,1:]+=128.0\n",
    "\n",
    "  return yuv\n",
    "\n",
    "def YUV_to_RGB(yuv):\n",
    "      \n",
    "  m = np.array([[ 1.0, 1.0, 1.0], [-0.000007154783816076815, -0.3441331386566162, 1.7720025777816772], [ 1.4019975662231445, -0.7141380310058594 , 0.00001542569043522235]])\n",
    "  \n",
    "  rgb = np.dot(yuv,m)\n",
    "  rgb[:,:,0]-=179.45477266423404\n",
    "  rgb[:,:,1]+=135.45870971679688\n",
    "  rgb[:,:,2]-=226.8183044444304\n",
    "  return rgb"
   ]
  },
  {
   "cell_type": "code",
   "execution_count": 6,
   "metadata": {
    "colab": {
     "base_uri": "https://localhost:8080/",
     "height": 446
    },
    "executionInfo": {
     "elapsed": 917,
     "status": "ok",
     "timestamp": 1725613845941,
     "user": {
      "displayName": "Xavier Serra",
      "userId": "05708248805041389305"
     },
     "user_tz": -120
    },
    "id": "cIL0xc6zbJRU",
    "outputId": "ec568c35-1552-4add-e507-c230a71afb41"
   },
   "outputs": [
    {
     "data": {
      "text/plain": [
       "array([[[ -19.19911269,  223.38578558,  -38.48177457],\n",
       "        [ 176.77357373,  182.25927353,  308.40796444],\n",
       "        [ 404.21965358,  167.65935206,  269.49372518],\n",
       "        ...,\n",
       "        [ 146.39175932,  142.81189227,  214.02002852],\n",
       "        [ 205.38503672,  -26.86055017,  257.5177001 ],\n",
       "        [ 183.30284189,  321.75021052,   73.02698379]],\n",
       "\n",
       "       [[ 279.41541519,   35.38710141,  207.74178197],\n",
       "        [ 171.72876005,   80.34420776, -144.81534271],\n",
       "        [ 325.60167549,  108.08659434,  203.49358635],\n",
       "        ...,\n",
       "        [  53.3521228 ,  107.23651099,   71.05160658],\n",
       "        [ 151.58764255,  146.38990498,  252.14404149],\n",
       "        [ 239.71716239,   81.48494172,  328.88516016]],\n",
       "\n",
       "       [[  27.33276245,  131.97334123,  -93.34076936],\n",
       "        [ 207.21542246,  163.44451094,  334.21632447],\n",
       "        [-158.03327165,  110.89040422, -103.86596463],\n",
       "        ...,\n",
       "        [ 324.64174129,   70.30996394,  146.14185362],\n",
       "        [  31.95926165,   36.42811537,  254.91997504],\n",
       "        [ 215.88396933,  130.44753408,  139.2806221 ]],\n",
       "\n",
       "       ...,\n",
       "\n",
       "       [[ 104.00000715,  104.34413314,  102.22799742],\n",
       "        [ 328.53116682,  156.51837492,  402.56926041],\n",
       "        [  44.15689065,  130.9746139 , -132.32464097],\n",
       "        ...,\n",
       "        [ -18.91410454,   90.00534105,  121.24720838],\n",
       "        [-123.64260702,   89.04992628,  269.27045829],\n",
       "        [  -2.69850321,   71.05318046,  220.16346841]],\n",
       "\n",
       "       [[ -16.14959567,  153.22847962,   34.06676316],\n",
       "        [ 126.743553  ,  161.21827888,  293.58375368],\n",
       "        [ 189.8831036 ,   62.80742431,  327.69293401],\n",
       "        ...,\n",
       "        [ 199.36548319,    8.58468533,  160.96939375],\n",
       "        [  79.05618239,  231.76207137,  178.22688677],\n",
       "        [  -7.83333616,   58.07992959, -138.1644865 ]],\n",
       "\n",
       "       [[ 150.65752875,   70.01854134,  209.2325917 ],\n",
       "        [  -4.22933376,  257.70906305,   61.31008685],\n",
       "        [  27.8896044 ,  118.81173944,  236.12734234],\n",
       "        ...,\n",
       "        [ 306.59209548,  119.2728734 ,   90.48936229],\n",
       "        [ 221.45221576,  179.8536036 ,  115.89230053],\n",
       "        [ 192.24671674,  180.74120426,  -31.37592361]]])"
      ]
     },
     "execution_count": 6,
     "metadata": {},
     "output_type": "execute_result"
    }
   ],
   "source": [
    "RGB_to_YUV(np.random.randint(0, 256, (100, 100, 3)))\n",
    "YUV_to_RGB(np.random.randint(0, 256, (100, 100, 3)))"
   ]
  },
  {
   "cell_type": "markdown",
   "metadata": {},
   "source": [
    "3) Use ffmpeg to resize images into lower quality. Use any image you like"
   ]
  },
  {
   "cell_type": "code",
   "execution_count": 7,
   "metadata": {},
   "outputs": [],
   "source": [
    "def resize_image(input_image, output_image, width, height):\n",
    "    ffmpeg.input(input_image).output(output_image, vf=f'scale={width}:{height}').run(overwrite_output=True)"
   ]
  },
  {
   "cell_type": "code",
   "execution_count": 8,
   "metadata": {},
   "outputs": [],
   "source": [
    "resize_image('image.png', 'image_resized.png', 50, 70)"
   ]
  },
  {
   "cell_type": "markdown",
   "metadata": {},
   "source": [
    "4) Create a method called serpentine which should be able to read the bytes of a JPEG file in the serpentine way we saw."
   ]
  },
  {
   "cell_type": "code",
   "execution_count": null,
   "metadata": {},
   "outputs": [],
   "source": [
    "def serpentine(img):\n",
    "    rows, cols = img.shape\n",
    "    output = []\n",
    "    resolution = rows * cols\n",
    "    i = 0\n",
    "    j = 0\n",
    "    k = 0\n",
    "\n",
    "    Up = True\n",
    "\n",
    "    while k < resolution:\n",
    "        if Up: \n",
    "            while j < rows and i >= 0:\n",
    "                output.append(img[i, j])\n",
    "                k += 1\n",
    "                i -= 1\n",
    "                j += 1\n",
    "\n",
    "\n",
    "            if i < 0 and j <= rows - 1:\n",
    "                i == 0\n",
    "            if j == rows:\n",
    "                i = i + 2\n",
    "                j -= 1\n",
    "\n",
    "        else:\n",
    "            while i < cols and j >= 0:\n",
    "                output.append(img[i, j])\n",
    "                k += 1\n",
    "                i += 1\n",
    "                j -= 1\n",
    "\n",
    "            if j < 0 and i <= cols - 1: \n",
    "                j = 0\n",
    "            if i == cols: \n",
    "                j = j + 2\n",
    "                i -= 1\n",
    "\n",
    "    return output"
   ]
  },
  {
   "cell_type": "code",
   "execution_count": null,
   "metadata": {},
   "outputs": [],
   "source": []
  },
  {
   "cell_type": "code",
   "execution_count": 35,
   "metadata": {},
   "outputs": [
    {
     "name": "stdout",
     "output_type": "stream",
     "text": [
      "9x9 Image Matrix (Simulated Bytes):\n",
      "[[ 66 143 195 155 152 149  90 111 105]\n",
      " [189 121 213 231  72 114  63  56   7]\n",
      " [ 58 180 100  92 124   1 246  62 150]\n",
      " [193 226 155 139  97  85 238  15 128]\n",
      " [ 92 219 195  51 210   0 123 201 213]\n",
      " [177 225  10 203 250  77  78 252 159]\n",
      " [154 157  24 168 228 151 159 241  30]\n",
      " [ 66 161 134 130  14 192 177   2  19]\n",
      " [  0 101  73 205 148 122  90 129  51]]\n",
      "[np.uint8(66), np.uint8(143), np.uint8(195), np.uint8(155), np.uint8(152), np.uint8(149), np.uint8(90), np.uint8(111), np.uint8(105), np.uint8(7), np.uint8(56), np.uint8(63), np.uint8(114), np.uint8(72), np.uint8(231), np.uint8(213), np.uint8(121), np.uint8(189), np.uint8(58), np.uint8(180), np.uint8(100), np.uint8(92), np.uint8(124), np.uint8(1), np.uint8(246), np.uint8(62), np.uint8(150), np.uint8(128), np.uint8(15), np.uint8(238), np.uint8(85), np.uint8(97), np.uint8(139), np.uint8(155), np.uint8(226), np.uint8(193), np.uint8(92), np.uint8(219), np.uint8(195), np.uint8(51), np.uint8(210), np.uint8(0), np.uint8(123), np.uint8(201), np.uint8(213), np.uint8(159), np.uint8(252), np.uint8(78), np.uint8(77), np.uint8(250), np.uint8(203), np.uint8(10), np.uint8(225), np.uint8(177), np.uint8(154), np.uint8(157), np.uint8(24), np.uint8(168), np.uint8(228), np.uint8(151), np.uint8(159), np.uint8(241), np.uint8(30), np.uint8(19), np.uint8(2), np.uint8(177), np.uint8(192), np.uint8(14), np.uint8(130), np.uint8(134), np.uint8(161), np.uint8(66), np.uint8(0), np.uint8(101), np.uint8(73), np.uint8(205), np.uint8(148), np.uint8(122), np.uint8(90), np.uint8(129), np.uint8(51)]\n"
     ]
    }
   ],
   "source": [
    "# Generate a 9x9 matrix with random bytes (values between 0 and 255)\n",
    "image_matrix = np.random.randint(0, 256, size=(9, 9), dtype=np.uint8)\n",
    "\n",
    "print(\"9x9 Image Matrix (Simulated Bytes):\")\n",
    "print(image_matrix)\n",
    "\n",
    "rows, cols = image_matrix.shape\n",
    "\n",
    "print(serpentine(image_matrix))\n",
    "            "
   ]
  },
  {
   "cell_type": "markdown",
   "metadata": {},
   "source": [
    "5) Use FFMPEG to transform the previous image into b/w. Do the hardest compression you can."
   ]
  },
  {
   "cell_type": "code",
   "execution_count": null,
   "metadata": {},
   "outputs": [],
   "source": [
    "ffmpeg.input('DSC01760.JPEG').output('DSC01760_GRAY.JPEG', vf='format=gray').run(overwrite_output=True)"
   ]
  },
  {
   "cell_type": "code",
   "execution_count": null,
   "metadata": {},
   "outputs": [],
   "source": [
    "# Add everything into a new method and comment the results"
   ]
  },
  {
   "cell_type": "markdown",
   "metadata": {},
   "source": [
    "Comment de results:\n",
    "\n",
    "- "
   ]
  },
  {
   "cell_type": "markdown",
   "metadata": {},
   "source": [
    "5) Create a method which applies a run-lenght encoding from a series of bytes given."
   ]
  },
  {
   "cell_type": "code",
   "execution_count": null,
   "metadata": {},
   "outputs": [],
   "source": [
    "def runLengthEncoding(bytes):\n",
    "\n",
    "    encoded=[]\n",
    "    byte=bytes[0]\n",
    "\n",
    "    for i in bytes:\n",
    "        encoded.append((byte))\n",
    "        byte = i\n",
    "\n",
    "    encoded.append((byte))\n",
    "\n",
    "    return encoded"
   ]
  },
  {
   "cell_type": "code",
   "execution_count": null,
   "metadata": {},
   "outputs": [],
   "source": [
    "# Testing run length encoding\n",
    "\n",
    "data = np.random.randint(0, 256, size=10, dtype=np.uint8)\n",
    "print(\"Random Bytes:\", data)\n",
    "\n",
    "encoded_data = runLengthEncoding(data)\n",
    "print(\"Encoded data:\", encoded_data)\n"
   ]
  },
  {
   "cell_type": "markdown",
   "metadata": {},
   "source": [
    "6) Create a class which can convert, can decode (or both) an input using the DCT. Not necessary a JPG encoder or decoder. A class only about DCT is OK too"
   ]
  },
  {
   "cell_type": "code",
   "execution_count": null,
   "metadata": {},
   "outputs": [],
   "source": [
    "class DCTProcessor:\n",
    "    def __init__(self, type=2, norm='ortho'):\n",
    "        self.type = type\n",
    "        self.norm = norm\n",
    "\n",
    "    def encode(self, data):\n",
    "        if data.ndim == 1:\n",
    "            return dct(data, type=self.type, norm=self.norm)\n",
    "        elif data.ndim == 2:\n",
    "            return dct(dct(data.T, type=self.type, norm=self.norm).T, type=self.type, norm=self.norm)\n",
    "        else:\n",
    "            raise ValueError(\"Error\")\n",
    "\n",
    "    def decode(self, transformed_data):\n",
    "        if transformed_data.ndim == 1:\n",
    "            return idct(transformed_data, type=self.type, norm=self.norm)\n",
    "        elif transformed_data.ndim == 2:\n",
    "            return idct(idct(transformed_data.T, type=self.type, norm=self.norm).T, type=self.type, norm=self.norm)\n",
    "        else:\n",
    "            raise ValueError(\"Error\")\n",
    "\n",
    "    def process(self, data):\n",
    "        encoded_data = self.encode(data)\n",
    "        decoded_data = self.decode(encoded_data)\n",
    "        return data, encoded_data, decoded_data"
   ]
  },
  {
   "cell_type": "code",
   "execution_count": null,
   "metadata": {},
   "outputs": [],
   "source": [
    "if __name__ == \"__main__\":\n",
    "    # Create an instance of the DCTProcessor\n",
    "    dct_processor = DCTProcessor(type=2, norm='ortho')\n",
    "\n",
    "    # Test with 1D data\n",
    "    data_1d = np.array([12, 34, 54, 23, 65, 23, 45, 76, 23, 56])\n",
    "    \n",
    "    # Test with 2D data\n",
    "    data_2d = np.array([[12, 34, 54, 23],\n",
    "                        [65, 23, 45, 76],\n",
    "                        [23, 56, 12, 89],\n",
    "                        [13, 45, 67, 32]])\n",
    "\n",
    "    # Process the 1D data\n",
    "    original_1d, encoded_1d, decoded_1d = dct_processor.process(data_1d)\n",
    "    print(\"1D Data:\")\n",
    "    print(\"Original:\", original_1d)\n",
    "    print(\"Encoded (DCT):\", encoded_1d)\n",
    "    print(\"Decoded (IDCT):\", decoded_1d)\n",
    "\n",
    "    print(\"\\n\")\n",
    "\n",
    "    # Process the 2D data\n",
    "    original_2d, encoded_2d, decoded_2d = dct_processor.process(data_2d)\n",
    "    print(\"2D Data:\")\n",
    "    print(\"Original:\")\n",
    "    print(original_2d)\n",
    "    print(\"Encoded (DCT):\")\n",
    "    print(encoded_2d)\n",
    "    print(\"Decoded (IDCT):\")\n",
    "    print(decoded_2d)"
   ]
  },
  {
   "cell_type": "markdown",
   "metadata": {},
   "source": [
    "7) Create a class which can convert, can decode (or both) an input using the DWT. Not necessary aJPEG2000 encoder or decoder. A class only about DWT is OK too"
   ]
  },
  {
   "cell_type": "code",
   "execution_count": null,
   "metadata": {},
   "outputs": [],
   "source": [
    "class DWTProcessor:\n",
    "    def __init__(self, wavelet='haar', level=1):\n",
    "        self.wavelet = wavelet\n",
    "        self.level = level\n",
    "\n",
    "    def encode(self, data):\n",
    "        if data.ndim == 1:\n",
    "            coeffs = pywt.wavedec(data, wavelet=self.wavelet, level=self.level)\n",
    "            return coeffs\n",
    "        elif data.ndim == 2:\n",
    "            coeffs = pywt.dwt2(data, wavelet=self.wavelet)\n",
    "            return coeffs\n",
    "        else:\n",
    "            raise ValueError(\"Error\")\n",
    "\n",
    "    def decode(self, transformed_data):\n",
    "        if isinstance(transformed_data, list):\n",
    "            data = pywt.waverec(transformed_data, wavelet=self.wavelet)\n",
    "            return data\n",
    "        elif isinstance(transformed_data, tuple):\n",
    "            data = pywt.idwt2(transformed_data, wavelet=self.wavelet)\n",
    "            return data\n",
    "        else:\n",
    "            raise ValueError(\"Error\")\n",
    "\n",
    "    def process(self, data):\n",
    "        encoded_data = self.encode(data)\n",
    "        decoded_data = self.decode(encoded_data)\n",
    "        return data, encoded_data, decoded_data"
   ]
  },
  {
   "cell_type": "code",
   "execution_count": null,
   "metadata": {},
   "outputs": [],
   "source": [
    "if __name__ == \"__main__\":\n",
    "    # Create an instance of the DWTProcessor\n",
    "    dwt_processor = DWTProcessor(wavelet='haar', level=1)\n",
    "\n",
    "    # Test with 1D data\n",
    "    data_1d = np.array([12, 34, 54, 23, 65, 23, 45, 76, 23, 56])\n",
    "    \n",
    "    # Test with 2D data\n",
    "    data_2d = np.array([[12, 34, 54, 23],\n",
    "                        [65, 23, 45, 76],\n",
    "                        [23, 56, 12, 89],\n",
    "                        [13, 45, 67, 32]])\n",
    "\n",
    "    # Process the 1D data\n",
    "    original_1d, encoded_1d, decoded_1d = dwt_processor.process(data_1d)\n",
    "    print(\"1D Data:\")\n",
    "    print(\"Original:\", original_1d)\n",
    "    print(\"Encoded (DWT):\", encoded_1d)\n",
    "    print(\"Decoded (IDWT):\", decoded_1d)\n",
    "\n",
    "    print(\"\\n\")\n",
    "\n",
    "    # Process the 2D data\n",
    "    original_2d, encoded_2d, decoded_2d = dwt_processor.process(data_2d)\n",
    "    print(\"2D Data:\")\n",
    "    print(\"Original:\")\n",
    "    print(original_2d)\n",
    "    print(\"Encoded (DWT):\")\n",
    "    print(encoded_2d)\n",
    "    print(\"Decoded (IDWT):\")\n",
    "    print(decoded_2d)"
   ]
  }
 ],
 "metadata": {
  "colab": {
   "authorship_tag": "ABX9TyMRLfTamI1Guef8I/9SvpXQ",
   "mount_file_id": "1zG2m0ccomnArDcFgJIhztc_vM1FDdex0",
   "provenance": []
  },
  "kernelspec": {
   "display_name": "Python 3",
   "language": "python",
   "name": "python3"
  },
  "language_info": {
   "codemirror_mode": {
    "name": "ipython",
    "version": 3
   },
   "file_extension": ".py",
   "mimetype": "text/x-python",
   "name": "python",
   "nbconvert_exporter": "python",
   "pygments_lexer": "ipython3",
   "version": "3.12.7"
  }
 },
 "nbformat": 4,
 "nbformat_minor": 0
}
